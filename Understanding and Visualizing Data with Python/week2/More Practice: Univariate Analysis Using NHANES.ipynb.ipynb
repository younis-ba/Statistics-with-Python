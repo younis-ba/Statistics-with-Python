{
 "cells": [
  {
   "cell_type": "markdown",
   "metadata": {},
   "source": [
    "# Practice notebook for univariate analysis using NHANES data\n",
    "\n",
    "This notebook will give you the opportunity to perform some univariate analyses on your own using the NHANES.  These analyses are similar to what was done in the week 2 NHANES case study notebook.\n",
    "\n",
    "You can enter your code into the cells that say \"enter your code here\", and you can type responses to the questions into the cells that say \"Type Markdown and Latex\".\n",
    "\n",
    "Note that most of the code that you will need to write below is very similar to code that appears in the case study notebook.  You will need to edit code from that notebook in small ways to adapt it to the prompts below.\n",
    "\n",
    "To get started, we will use the same module imports and read the data in the same way as we did in the case study:"
   ]
  },
  {
   "cell_type": "code",
   "execution_count": 15,
   "metadata": {},
   "outputs": [],
   "source": [
    "%matplotlib inline\n",
    "import matplotlib.pyplot as plt\n",
    "import seaborn as sns\n",
    "import pandas as pd\n",
    "import statsmodels.api as sm\n",
    "import numpy as np\n",
    "\n",
    "da = pd.read_csv(\"nhanes_2015_2016.csv\")"
   ]
  },
  {
   "cell_type": "code",
   "execution_count": 16,
   "metadata": {},
   "outputs": [
    {
     "data": {
      "text/plain": [
       "1.0     2780\n",
       "5.0     1004\n",
       "3.0      579\n",
       "6.0      527\n",
       "2.0      396\n",
       "4.0      186\n",
       "77.0       2\n",
       "Name: DMDMARTL, dtype: int64"
      ]
     },
     "execution_count": 16,
     "metadata": {},
     "output_type": "execute_result"
    }
   ],
   "source": [
    "da.DMDMARTL.value_counts()\n"
   ]
  },
  {
   "cell_type": "markdown",
   "metadata": {},
   "source": [
    "## Question 1\n",
    "\n",
    "Relabel the marital status variable [DMDMARTL](https://wwwn.cdc.gov/Nchs/Nhanes/2015-2016/DEMO_I.htm#DMDMARTL) to have brief but informative character labels.  Then construct a frequency table of these values for all people, then for women only, and for men only.  Then construct these three frequency tables using only people whose age is between 30 and 40."
   ]
  },
  {
   "cell_type": "code",
   "execution_count": 17,
   "metadata": {},
   "outputs": [],
   "source": [
    "da[\"RIAGENDRx\"] = da.RIAGENDR.replace({1: \"Male\", 2: \"Female\"})"
   ]
  },
  {
   "cell_type": "code",
   "execution_count": 18,
   "metadata": {},
   "outputs": [
    {
     "data": {
      "text/plain": [
       "Married                2780\n",
       "Never married          1004\n",
       "Divorced                579\n",
       "Living with partner     527\n",
       "Widowed                 396\n",
       "Missing                 261\n",
       "Separated               186\n",
       "Refused                   2\n",
       "Name: DMDMARTLx, dtype: int64"
      ]
     },
     "execution_count": 18,
     "metadata": {},
     "output_type": "execute_result"
    }
   ],
   "source": [
    "# insert your code here\n",
    "\n",
    "da[\"DMDMARTLx\"] = da.DMDMARTL.replace({1: \"Married\", 2: \"Widowed\", 3: \"Divorced\", 4: \"Separated\", 5: \"Never married\", \n",
    "                                       6: \"Living with partner\", 77: \"Refused\", 9: \"Don't know\"}).fillna(\"Missing\")\n",
    "da.DMDMARTLx.value_counts()"
   ]
  },
  {
   "cell_type": "code",
   "execution_count": 27,
   "metadata": {},
   "outputs": [
    {
     "data": {
      "text/plain": [
       "Married                0.535339\n",
       "Never married          0.175426\n",
       "Living with partner    0.096049\n",
       "Divorced               0.083001\n",
       "Missing                0.048931\n",
       "Widowed                0.036245\n",
       "Separated              0.024647\n",
       "Refused                0.000362\n",
       "Name: DMDMARTLx, dtype: float64"
      ]
     },
     "execution_count": 27,
     "metadata": {},
     "output_type": "execute_result"
    }
   ],
   "source": [
    "da[da[\"RIAGENDRx\"] == \"Male\"].DMDMARTLx.value_counts()/len(da[da[\"RIAGENDRx\"] == \"Male\"])"
   ]
  },
  {
   "cell_type": "markdown",
   "metadata": {},
   "source": [
    "__Q1a.__ Briefly comment on some of the differences that you observe between the distribution of marital status between women and men, for people of all ages."
   ]
  },
  {
   "cell_type": "raw",
   "metadata": {},
   "source": []
  },
  {
   "cell_type": "code",
   "execution_count": 44,
   "metadata": {},
   "outputs": [
    {
     "name": "stdout",
     "output_type": "stream",
     "text": [
      "RIAGENDRx            Female   Male\n",
      "DMDMARTLx                         \n",
      "Divorced             0.1176 0.0830\n",
      "Living with partner  0.0880 0.0960\n",
      "Married              0.4378 0.5353\n",
      "Missing              0.0423 0.0489\n",
      "Never married        0.1747 0.1754\n",
      "Refused              0.0003 0.0004\n",
      "Separated            0.0397 0.0246\n",
      "Widowed              0.0995 0.0362\n"
     ]
    }
   ],
   "source": [
    "dx = da.groupby([\"DMDMARTLx\"])[\"RIAGENDRx\"].value_counts().unstack()\n",
    "dx = dx.apply(lambda x: x/x.sum(), axis=0)\n",
    "print(dx.to_string(float_format=\"%.4f\")) "
   ]
  },
  {
   "cell_type": "markdown",
   "metadata": {},
   "source": [
    "__Q1b.__ Briefly comment on the differences that you observe between the distribution of marital status states for women between the overall population, and for women between the ages of 30 and 40."
   ]
  },
  {
   "cell_type": "code",
   "execution_count": 46,
   "metadata": {},
   "outputs": [
    {
     "data": {
      "text/plain": [
       "Married                0.044987\n",
       "Never married          0.016914\n",
       "Living with partner    0.009939\n",
       "Divorced               0.007498\n",
       "Separated              0.002964\n",
       "Widowed                0.000349\n",
       "Name: DMDMARTLx, dtype: float64"
      ]
     },
     "execution_count": 46,
     "metadata": {},
     "output_type": "execute_result"
    }
   ],
   "source": [
    "da[\"agegrp\"] = pd.cut(da.RIDAGEYR,[30,40])\n",
    "da[(da.RIAGENDRx == \"Female\") & (da.agegrp == pd.Interval(30,40))].DMDMARTLx.value_counts()/da[\"DMDMARTLx\"].shape[0]\n"
   ]
  },
  {
   "cell_type": "markdown",
   "metadata": {},
   "source": [
    "__Q1c.__ Repeat part b for the men."
   ]
  },
  {
   "cell_type": "code",
   "execution_count": 55,
   "metadata": {},
   "outputs": [
    {
     "data": {
      "text/plain": [
       "Married                0.257541\n",
       "Never married          0.084394\n",
       "Living with partner    0.046207\n",
       "Divorced               0.039930\n",
       "Missing                0.023540\n",
       "Widowed                0.017437\n",
       "Separated              0.011857\n",
       "Refused                0.000174\n",
       "Name: DMDMARTLx, dtype: float64"
      ]
     },
     "execution_count": 55,
     "metadata": {},
     "output_type": "execute_result"
    }
   ],
   "source": [
    "da[\"agegrp\"]=pd.cut(da.RIAGENDR,[30,40])\n",
    "da[(da.RIAGENDRx == \"Male\")].DMDMARTLx.value_counts()/da[\"DMDMARTLx\"].shape[0]\n"
   ]
  },
  {
   "cell_type": "code",
   "execution_count": 56,
   "metadata": {},
   "outputs": [
    {
     "data": {
      "text/plain": [
       "Married                0.044987\n",
       "Never married          0.015519\n",
       "Living with partner    0.012554\n",
       "Divorced               0.004185\n",
       "Separated              0.002092\n",
       "Widowed                0.000349\n",
       "Refused                0.000174\n",
       "Name: DMDMARTLx, dtype: float64"
      ]
     },
     "execution_count": 56,
     "metadata": {},
     "output_type": "execute_result"
    }
   ],
   "source": [
    "#between the distribution of marital status states for men between the ages of 30 and 40\n",
    "da[\"agegrp\"] = pd.cut(da.RIDAGEYR,[30,40])\n",
    "da[(da.RIAGENDRx == \"Male\") & (da.agegrp == pd.Interval(30,40))].DMDMARTLx.value_counts()/da[\"DMDMARTLx\"].shape[0]"
   ]
  },
  {
   "cell_type": "markdown",
   "metadata": {},
   "source": [
    "## Question 2\n",
    "\n",
    "Restricting to the female population, stratify the subjects into age bands no wider than ten years, and construct the distribution of marital status within each age band.  Within each age band, present the distribution in terms of proportions that must sum to 1."
   ]
  },
  {
   "cell_type": "code",
   "execution_count": 70,
   "metadata": {},
   "outputs": [
    {
     "name": "stdout",
     "output_type": "stream",
     "text": [
      "DMDMARTLx  Divorced  Living with partner  Married  Missing  Never married  Refused  Separated  Widowed\n",
      "agegrp2                                                                                               \n",
      "(10, 20]        NaN                 0.03     0.00     1.00           0.06      NaN        NaN      NaN\n",
      "(20, 30]       0.03                 0.40     0.12      NaN           0.44      NaN       0.09      NaN\n",
      "(30, 40]       0.12                 0.22     0.20      NaN           0.19      NaN       0.14     0.01\n",
      "(40, 50]       0.20                 0.14     0.22      NaN           0.12      NaN       0.28     0.04\n",
      "(50, 60]       0.24                 0.12     0.20      NaN           0.08     1.00       0.23     0.09\n",
      "(60, 70]       0.24                 0.07     0.16      NaN           0.07      NaN       0.19     0.22\n",
      "(70, 80]       0.17                 0.01     0.10      NaN           0.04      NaN       0.07     0.64\n"
     ]
    }
   ],
   "source": [
    "# insert your code here\n",
    "x = da[da.RIAGENDRx == \"Female\"]\n",
    "x[\"agegrp2\"] = pd.cut(da.RIDAGEYR, [10,20, 30, 40, 50, 60, 70, 80])\n",
    "dx = x.groupby([\"agegrp2\"])[\"DMDMARTLx\"].value_counts().unstack()\n",
    "dx = dx.apply(lambda y: y/y.sum(), axis=0)\n",
    "print(dx.to_string(float_format=\"%.2f\"))"
   ]
  },
  {
   "cell_type": "code",
   "execution_count": 71,
   "metadata": {},
   "outputs": [
    {
     "data": {
      "text/html": [
       "<div>\n",
       "<style scoped>\n",
       "    .dataframe tbody tr th:only-of-type {\n",
       "        vertical-align: middle;\n",
       "    }\n",
       "\n",
       "    .dataframe tbody tr th {\n",
       "        vertical-align: top;\n",
       "    }\n",
       "\n",
       "    .dataframe thead th {\n",
       "        text-align: right;\n",
       "    }\n",
       "</style>\n",
       "<table border=\"1\" class=\"dataframe\">\n",
       "  <thead>\n",
       "    <tr style=\"text-align: right;\">\n",
       "      <th>DMDMARTLx</th>\n",
       "      <th>Divorced</th>\n",
       "      <th>Living with partner</th>\n",
       "      <th>Married</th>\n",
       "      <th>Missing</th>\n",
       "      <th>Never married</th>\n",
       "      <th>Refused</th>\n",
       "      <th>Separated</th>\n",
       "      <th>Widowed</th>\n",
       "    </tr>\n",
       "    <tr>\n",
       "      <th>agegrp</th>\n",
       "      <th></th>\n",
       "      <th></th>\n",
       "      <th></th>\n",
       "      <th></th>\n",
       "      <th></th>\n",
       "      <th></th>\n",
       "      <th></th>\n",
       "      <th></th>\n",
       "    </tr>\n",
       "  </thead>\n",
       "  <tbody>\n",
       "    <tr>\n",
       "      <th>(10, 20]</th>\n",
       "      <td>NaN</td>\n",
       "      <td>0.048485</td>\n",
       "      <td>0.006061</td>\n",
       "      <td>0.763636</td>\n",
       "      <td>0.181818</td>\n",
       "      <td>NaN</td>\n",
       "      <td>NaN</td>\n",
       "      <td>NaN</td>\n",
       "    </tr>\n",
       "    <tr>\n",
       "      <th>(20, 30]</th>\n",
       "      <td>0.021401</td>\n",
       "      <td>0.206226</td>\n",
       "      <td>0.305447</td>\n",
       "      <td>NaN</td>\n",
       "      <td>0.445525</td>\n",
       "      <td>NaN</td>\n",
       "      <td>0.021401</td>\n",
       "      <td>NaN</td>\n",
       "    </tr>\n",
       "    <tr>\n",
       "      <th>(30, 40]</th>\n",
       "      <td>0.090717</td>\n",
       "      <td>0.120253</td>\n",
       "      <td>0.544304</td>\n",
       "      <td>NaN</td>\n",
       "      <td>0.204641</td>\n",
       "      <td>NaN</td>\n",
       "      <td>0.035865</td>\n",
       "      <td>0.004219</td>\n",
       "    </tr>\n",
       "    <tr>\n",
       "      <th>(40, 50]</th>\n",
       "      <td>0.137450</td>\n",
       "      <td>0.073705</td>\n",
       "      <td>0.573705</td>\n",
       "      <td>NaN</td>\n",
       "      <td>0.125498</td>\n",
       "      <td>NaN</td>\n",
       "      <td>0.065737</td>\n",
       "      <td>0.023904</td>\n",
       "    </tr>\n",
       "    <tr>\n",
       "      <th>(50, 60]</th>\n",
       "      <td>0.176596</td>\n",
       "      <td>0.068085</td>\n",
       "      <td>0.546809</td>\n",
       "      <td>NaN</td>\n",
       "      <td>0.089362</td>\n",
       "      <td>0.002128</td>\n",
       "      <td>0.057447</td>\n",
       "      <td>0.059574</td>\n",
       "    </tr>\n",
       "    <tr>\n",
       "      <th>(60, 70]</th>\n",
       "      <td>0.192744</td>\n",
       "      <td>0.043084</td>\n",
       "      <td>0.480726</td>\n",
       "      <td>NaN</td>\n",
       "      <td>0.086168</td>\n",
       "      <td>NaN</td>\n",
       "      <td>0.049887</td>\n",
       "      <td>0.147392</td>\n",
       "    </tr>\n",
       "    <tr>\n",
       "      <th>(70, 80]</th>\n",
       "      <td>0.143902</td>\n",
       "      <td>0.007317</td>\n",
       "      <td>0.317073</td>\n",
       "      <td>NaN</td>\n",
       "      <td>0.051220</td>\n",
       "      <td>NaN</td>\n",
       "      <td>0.019512</td>\n",
       "      <td>0.460976</td>\n",
       "    </tr>\n",
       "  </tbody>\n",
       "</table>\n",
       "</div>"
      ],
      "text/plain": [
       "DMDMARTLx  Divorced  Living with partner   Married   Missing  Never married  \\\n",
       "agegrp                                                                        \n",
       "(10, 20]        NaN             0.048485  0.006061  0.763636       0.181818   \n",
       "(20, 30]   0.021401             0.206226  0.305447       NaN       0.445525   \n",
       "(30, 40]   0.090717             0.120253  0.544304       NaN       0.204641   \n",
       "(40, 50]   0.137450             0.073705  0.573705       NaN       0.125498   \n",
       "(50, 60]   0.176596             0.068085  0.546809       NaN       0.089362   \n",
       "(60, 70]   0.192744             0.043084  0.480726       NaN       0.086168   \n",
       "(70, 80]   0.143902             0.007317  0.317073       NaN       0.051220   \n",
       "\n",
       "DMDMARTLx   Refused  Separated   Widowed  \n",
       "agegrp                                    \n",
       "(10, 20]        NaN        NaN       NaN  \n",
       "(20, 30]        NaN   0.021401       NaN  \n",
       "(30, 40]        NaN   0.035865  0.004219  \n",
       "(40, 50]        NaN   0.065737  0.023904  \n",
       "(50, 60]   0.002128   0.057447  0.059574  \n",
       "(60, 70]        NaN   0.049887  0.147392  \n",
       "(70, 80]        NaN   0.019512  0.460976  "
      ]
     },
     "execution_count": 71,
     "metadata": {},
     "output_type": "execute_result"
    }
   ],
   "source": [
    "da[\"agegrp\"] = pd.cut(da.RIDAGEYR, [10,20, 30, 40, 50, 60, 70, 80])\n",
    "(da[da['RIAGENDRx'] == \"Female\"].groupby(['agegrp', 'DMDMARTLx']).size() / da[da['RIAGENDRx'] == \"Female\"].groupby(['agegrp']).size()).unstack()\n"
   ]
  },
  {
   "cell_type": "markdown",
   "metadata": {},
   "source": [
    "__Q2a.__ Comment on the trends that you see in this series of marginal distributions."
   ]
  },
  {
   "cell_type": "raw",
   "metadata": {},
   "source": []
  },
  {
   "cell_type": "markdown",
   "metadata": {},
   "source": [
    "__Q2b.__ Repeat the construction for males."
   ]
  },
  {
   "cell_type": "code",
   "execution_count": 75,
   "metadata": {},
   "outputs": [],
   "source": [
    "da[\"agegrp\"] = pd.cut(da.RIDAGEYR, [10,20, 30, 40, 50, 60, 70, 80])"
   ]
  },
  {
   "cell_type": "markdown",
   "metadata": {},
   "source": [
    "__Q2c.__ Comment on any notable differences that you see when comparing these results for females and for males."
   ]
  },
  {
   "cell_type": "code",
   "execution_count": null,
   "metadata": {},
   "outputs": [],
   "source": []
  },
  {
   "cell_type": "raw",
   "metadata": {},
   "source": []
  },
  {
   "cell_type": "markdown",
   "metadata": {},
   "source": [
    "## Question 3\n",
    "\n",
    "Construct a histogram of the distribution of heights using the BMXHT variable in the NHANES sample."
   ]
  },
  {
   "cell_type": "code",
   "execution_count": 76,
   "metadata": {},
   "outputs": [
    {
     "data": {
      "text/plain": [
       "<matplotlib.axes._subplots.AxesSubplot at 0x7f2307ceedd8>"
      ]
     },
     "execution_count": 76,
     "metadata": {},
     "output_type": "execute_result"
    },
    {
     "data": {
      "image/png": "[encoded data removed]",
      "text/plain": [
       "<Figure size 432x288 with 1 Axes>"
      ]
     },
     "metadata": {},
     "output_type": "display_data"
    }
   ],
   "source": [
    "sns.distplot(da.BMXWT.dropna())"
   ]
  },
  {
   "cell_type": "markdown",
   "metadata": {},
   "source": [
    "__Q3a.__ Use the `bins` argument to [distplot](https://seaborn.pydata.org/generated/seaborn.distplot.html) to produce histograms with different numbers of bins.  Assess whether the default value for this argument gives a meaningful result, and comment on what happens as the number of bins grows excessively large or excessively small. "
   ]
  },
  {
   "cell_type": "code",
   "execution_count": 79,
   "metadata": {},
   "outputs": [
    {
     "data": {
      "text/plain": [
       "<matplotlib.axes._subplots.AxesSubplot at 0x7f2305ae2f98>"
      ]
     },
     "execution_count": 79,
     "metadata": {},
     "output_type": "execute_result"
    },
    {
     "data": {
      "image/png": "[encoded data removed]",
      "text/plain": [
       "<Figure size 432x288 with 1 Axes>"
      ]
     },
     "metadata": {},
     "output_type": "display_data"
    }
   ],
   "source": [
    "sns.distplot(da.BMXWT.dropna() , bins=30)"
   ]
  },
  {
   "cell_type": "markdown",
   "metadata": {},
   "source": [
    "__Q3b.__ Make separate histograms for the heights of women and men, then make a side-by-side boxplot showing the heights of women and men."
   ]
  },
  {
   "cell_type": "code",
   "execution_count": 3,
   "metadata": {},
   "outputs": [],
   "source": [
    "# insert your code here"
   ]
  },
  {
   "cell_type": "code",
   "execution_count": 80,
   "metadata": {},
   "outputs": [
    {
     "data": {
      "image/png": "[encoded data removed]",
      "text/plain": [
       "<Figure size 432x288 with 1 Axes>"
      ]
     },
     "metadata": {},
     "output_type": "display_data"
    },
    {
     "data": {
      "image/png": "[encoded data removed]",
      "text/plain": [
       "<Figure size 216x432 with 2 Axes>"
      ]
     },
     "metadata": {},
     "output_type": "display_data"
    }
   ],
   "source": [
    "# insert your code here\n",
    "sns.boxplot(x = da[\"BMXHT\"], y = da[\"RIAGENDRx\"])\n",
    "g = sns.FacetGrid(da, row = \"RIAGENDRx\")\n",
    "g = g.map(plt.hist, \"BMXHT\")\n",
    "plt.show()"
   ]
  },
  {
   "cell_type": "markdown",
   "metadata": {},
   "source": [
    "__Q3c.__ Comment on what features, if any are not represented clearly in the boxplots, and what features, if any, are easier to see in the boxplots than in the histograms."
   ]
  },
  {
   "cell_type": "markdown",
   "metadata": {},
   "source": [
    "## Question 4\n",
    "\n",
    "Make a boxplot showing the distribution of within-subject differences between the first and second systolic blood pressure measurents ([BPXSY1](https://wwwn.cdc.gov/Nchs/Nhanes/2015-2016/BPX_I.htm#BPXSY1) and [BPXSY2](https://wwwn.cdc.gov/Nchs/Nhanes/2015-2016/BPX_I.htm#BPXSY2))."
   ]
  },
  {
   "cell_type": "code",
   "execution_count": null,
   "metadata": {},
   "outputs": [],
   "source": [
    "# insert your code here"
   ]
  },
  {
   "cell_type": "code",
   "execution_count": 84,
   "metadata": {},
   "outputs": [
    {
     "data": {
      "text/plain": [
       "<matplotlib.axes._subplots.AxesSubplot at 0x7f230528c320>"
      ]
     },
     "execution_count": 84,
     "metadata": {},
     "output_type": "execute_result"
    },
    {
     "data": {
      "image/png": "[encoded data removed]",
      "text/plain": [
       "<Figure size 432x288 with 1 Axes>"
      ]
     },
     "metadata": {},
     "output_type": "display_data"
    }
   ],
   "source": [
    "# insert your code here\n",
    "x = da[[\"BPXSY1\", \"BPXSY2\"]]\n",
    "x.boxplot()"
   ]
  },
  {
   "cell_type": "markdown",
   "metadata": {},
   "source": [
    "__Q4a.__ What proportion of the subjects have a lower SBP on the second reading compared to the first?"
   ]
  },
  {
   "cell_type": "code",
   "execution_count": null,
   "metadata": {},
   "outputs": [],
   "source": [
    "# insert your code here"
   ]
  },
  {
   "cell_type": "markdown",
   "metadata": {},
   "source": [
    "__Q4b.__ Make side-by-side boxplots of the two systolic blood pressure variables."
   ]
  },
  {
   "cell_type": "code",
   "execution_count": 4,
   "metadata": {},
   "outputs": [],
   "source": [
    "# insert your code here"
   ]
  },
  {
   "cell_type": "markdown",
   "metadata": {},
   "source": [
    "__Q4c.__ Comment on the variation within either the first or second systolic blood pressure measurements, and the variation in the within-subject differences between the first and second systolic blood pressure measurements."
   ]
  },
  {
   "cell_type": "raw",
   "metadata": {},
   "source": []
  },
  {
   "cell_type": "markdown",
   "metadata": {},
   "source": [
    "## Question 5\n",
    "\n",
    "Construct a frequency table of household sizes for people within each educational attainment category (the relevant variable is [DMDEDUC2](https://wwwn.cdc.gov/Nchs/Nhanes/2015-2016/DEMO_I.htm#DMDEDUC2)).  Convert the frequencies to proportions."
   ]
  },
  {
   "cell_type": "code",
   "execution_count": null,
   "metadata": {},
   "outputs": [],
   "source": [
    "# insert your code here"
   ]
  },
  {
   "cell_type": "code",
   "execution_count": 85,
   "metadata": {},
   "outputs": [
    {
     "name": "stdout",
     "output_type": "stream",
     "text": [
      "DMDHHSIZ    1    2    3    4    5    6    7\n",
      "DMDEDUC2                                   \n",
      "1.0      0.11 0.22 0.15 0.13 0.15 0.11 0.13\n",
      "2.0      0.12 0.22 0.16 0.15 0.15 0.11 0.09\n",
      "3.0      0.15 0.27 0.17 0.16 0.11 0.07 0.07\n",
      "4.0      0.15 0.27 0.19 0.17 0.12 0.05 0.05\n",
      "5.0      0.14 0.35 0.19 0.17 0.10 0.03 0.03\n",
      "9.0       NaN 0.67  NaN  NaN 0.33  NaN  NaN\n"
     ]
    }
   ],
   "source": [
    "dx = da.groupby([\"DMDEDUC2\"])[\"DMDHHSIZ\"].value_counts().unstack()\n",
    "dx = dx.apply(lambda x: x/x.sum(), axis=1)\n",
    "print(dx.to_string(float_format=\"%.2f\")) "
   ]
  },
  {
   "cell_type": "markdown",
   "metadata": {},
   "source": [
    "__Q5a.__ Comment on any major differences among the distributions."
   ]
  },
  {
   "cell_type": "raw",
   "metadata": {},
   "source": []
  },
  {
   "cell_type": "markdown",
   "metadata": {},
   "source": [
    "__Q5b.__ Restrict the sample to people between 30 and 40 years of age.  Then calculate the median household size for women and men within each level of educational attainment."
   ]
  },
  {
   "cell_type": "code",
   "execution_count": 7,
   "metadata": {},
   "outputs": [],
   "source": [
    "# insert your code here"
   ]
  },
  {
   "cell_type": "code",
   "execution_count": 86,
   "metadata": {},
   "outputs": [
    {
     "data": {
      "text/plain": [
       "DMDEDUC2  RIAGENDR\n",
       "1.0       1           5.0\n",
       "          2           5.0\n",
       "2.0       1           4.5\n",
       "          2           5.0\n",
       "3.0       1           4.0\n",
       "          2           5.0\n",
       "4.0       1           4.0\n",
       "          2           4.0\n",
       "5.0       1           3.0\n",
       "          2           3.0\n",
       "Name: DMDHHSIZ, dtype: float64"
      ]
     },
     "execution_count": 86,
     "metadata": {},
     "output_type": "execute_result"
    }
   ],
   "source": [
    "da[(da.RIDAGEYR >= 30) & (da.RIDAGEYR <= 40)].groupby([\"DMDEDUC2\", \"RIAGENDR\"])[\"DMDHHSIZ\"].median()\n"
   ]
  },
  {
   "cell_type": "markdown",
   "metadata": {},
   "source": [
    "## Question 6\n",
    "\n",
    "The participants can be clustered into \"maked variance units\" (MVU) based on every combination of the variables [SDMVSTRA](https://wwwn.cdc.gov/Nchs/Nhanes/2015-2016/DEMO_I.htm#SDMVSTRA) and [SDMVPSU](https://wwwn.cdc.gov/Nchs/Nhanes/2015-2016/DEMO_I.htm#SDMVPSU).  Calculate the mean age ([RIDAGEYR](https://wwwn.cdc.gov/Nchs/Nhanes/2015-2016/DEMO_I.htm#RIDAGEYR)), height ([BMXHT](https://wwwn.cdc.gov/Nchs/Nhanes/2015-2016/BMX_I.htm#BMXHT)), and BMI ([BMXBMI](https://wwwn.cdc.gov/Nchs/Nhanes/2015-2016/BMX_I.htm#BMXBMI)) for each gender ([RIAGENDR](https://wwwn.cdc.gov/Nchs/Nhanes/2015-2016/DEMO_I.htm#RIAGENDR)), within each MVU, and report the ratio between the largest and smallest mean (e.g. for height) across the MVUs."
   ]
  },
  {
   "cell_type": "code",
   "execution_count": 1,
   "metadata": {},
   "outputs": [],
   "source": [
    "# insert your code here"
   ]
  },
  {
   "cell_type": "code",
   "execution_count": 87,
   "metadata": {},
   "outputs": [
    {
     "data": {
      "text/html": [
       "<div>\n",
       "<style scoped>\n",
       "    .dataframe tbody tr th:only-of-type {\n",
       "        vertical-align: middle;\n",
       "    }\n",
       "\n",
       "    .dataframe tbody tr th {\n",
       "        vertical-align: top;\n",
       "    }\n",
       "\n",
       "    .dataframe thead tr th {\n",
       "        text-align: left;\n",
       "    }\n",
       "\n",
       "    .dataframe thead tr:last-of-type th {\n",
       "        text-align: right;\n",
       "    }\n",
       "</style>\n",
       "<table border=\"1\" class=\"dataframe\">\n",
       "  <thead>\n",
       "    <tr>\n",
       "      <th></th>\n",
       "      <th></th>\n",
       "      <th colspan=\"2\" halign=\"left\">RIDAGEYR</th>\n",
       "      <th colspan=\"2\" halign=\"left\">BMXHT</th>\n",
       "      <th colspan=\"2\" halign=\"left\">BMXBMI</th>\n",
       "    </tr>\n",
       "    <tr>\n",
       "      <th></th>\n",
       "      <th>RIAGENDR</th>\n",
       "      <th>1</th>\n",
       "      <th>2</th>\n",
       "      <th>1</th>\n",
       "      <th>2</th>\n",
       "      <th>1</th>\n",
       "      <th>2</th>\n",
       "    </tr>\n",
       "    <tr>\n",
       "      <th>SDMVSTRA</th>\n",
       "      <th>SDMVPSU</th>\n",
       "      <th></th>\n",
       "      <th></th>\n",
       "      <th></th>\n",
       "      <th></th>\n",
       "      <th></th>\n",
       "      <th></th>\n",
       "    </tr>\n",
       "  </thead>\n",
       "  <tbody>\n",
       "    <tr>\n",
       "      <th rowspan=\"2\" valign=\"top\">119</th>\n",
       "      <th>1</th>\n",
       "      <td>47.861111</td>\n",
       "      <td>47.663265</td>\n",
       "      <td>172.741667</td>\n",
       "      <td>159.570408</td>\n",
       "      <td>26.958333</td>\n",
       "      <td>30.052041</td>\n",
       "    </tr>\n",
       "    <tr>\n",
       "      <th>2</th>\n",
       "      <td>54.363636</td>\n",
       "      <td>52.987952</td>\n",
       "      <td>172.906818</td>\n",
       "      <td>159.244578</td>\n",
       "      <td>27.160465</td>\n",
       "      <td>27.849398</td>\n",
       "    </tr>\n",
       "    <tr>\n",
       "      <th rowspan=\"2\" valign=\"top\">120</th>\n",
       "      <th>1</th>\n",
       "      <td>43.130000</td>\n",
       "      <td>43.636364</td>\n",
       "      <td>169.537755</td>\n",
       "      <td>155.402041</td>\n",
       "      <td>30.939175</td>\n",
       "      <td>32.419388</td>\n",
       "    </tr>\n",
       "    <tr>\n",
       "      <th>2</th>\n",
       "      <td>45.219178</td>\n",
       "      <td>43.736111</td>\n",
       "      <td>173.075342</td>\n",
       "      <td>159.218056</td>\n",
       "      <td>27.727397</td>\n",
       "      <td>27.400000</td>\n",
       "    </tr>\n",
       "    <tr>\n",
       "      <th rowspan=\"2\" valign=\"top\">121</th>\n",
       "      <th>1</th>\n",
       "      <td>46.750000</td>\n",
       "      <td>44.397959</td>\n",
       "      <td>172.177885</td>\n",
       "      <td>158.871579</td>\n",
       "      <td>29.416505</td>\n",
       "      <td>30.856842</td>\n",
       "    </tr>\n",
       "    <tr>\n",
       "      <th>2</th>\n",
       "      <td>42.063158</td>\n",
       "      <td>44.376344</td>\n",
       "      <td>174.764516</td>\n",
       "      <td>160.229032</td>\n",
       "      <td>26.273118</td>\n",
       "      <td>26.470968</td>\n",
       "    </tr>\n",
       "    <tr>\n",
       "      <th rowspan=\"2\" valign=\"top\">122</th>\n",
       "      <th>1</th>\n",
       "      <td>44.653061</td>\n",
       "      <td>42.897436</td>\n",
       "      <td>173.998969</td>\n",
       "      <td>161.315385</td>\n",
       "      <td>28.528866</td>\n",
       "      <td>29.447436</td>\n",
       "    </tr>\n",
       "    <tr>\n",
       "      <th>2</th>\n",
       "      <td>44.320000</td>\n",
       "      <td>47.333333</td>\n",
       "      <td>170.332323</td>\n",
       "      <td>157.231111</td>\n",
       "      <td>25.744444</td>\n",
       "      <td>26.611111</td>\n",
       "    </tr>\n",
       "    <tr>\n",
       "      <th rowspan=\"2\" valign=\"top\">123</th>\n",
       "      <th>1</th>\n",
       "      <td>47.829787</td>\n",
       "      <td>44.841121</td>\n",
       "      <td>174.315217</td>\n",
       "      <td>162.059615</td>\n",
       "      <td>29.231522</td>\n",
       "      <td>29.905769</td>\n",
       "    </tr>\n",
       "    <tr>\n",
       "      <th>2</th>\n",
       "      <td>52.126582</td>\n",
       "      <td>46.457447</td>\n",
       "      <td>174.454430</td>\n",
       "      <td>160.476596</td>\n",
       "      <td>28.811392</td>\n",
       "      <td>30.641489</td>\n",
       "    </tr>\n",
       "    <tr>\n",
       "      <th rowspan=\"2\" valign=\"top\">124</th>\n",
       "      <th>1</th>\n",
       "      <td>50.750000</td>\n",
       "      <td>51.664000</td>\n",
       "      <td>172.109009</td>\n",
       "      <td>158.788710</td>\n",
       "      <td>28.614414</td>\n",
       "      <td>29.533065</td>\n",
       "    </tr>\n",
       "    <tr>\n",
       "      <th>2</th>\n",
       "      <td>48.245614</td>\n",
       "      <td>42.541667</td>\n",
       "      <td>174.291228</td>\n",
       "      <td>162.853521</td>\n",
       "      <td>27.714035</td>\n",
       "      <td>28.640845</td>\n",
       "    </tr>\n",
       "    <tr>\n",
       "      <th rowspan=\"2\" valign=\"top\">125</th>\n",
       "      <th>1</th>\n",
       "      <td>55.165289</td>\n",
       "      <td>50.900901</td>\n",
       "      <td>173.631092</td>\n",
       "      <td>160.762385</td>\n",
       "      <td>29.727731</td>\n",
       "      <td>30.385321</td>\n",
       "    </tr>\n",
       "    <tr>\n",
       "      <th>2</th>\n",
       "      <td>49.705882</td>\n",
       "      <td>51.660000</td>\n",
       "      <td>174.456863</td>\n",
       "      <td>160.021429</td>\n",
       "      <td>29.143564</td>\n",
       "      <td>28.564286</td>\n",
       "    </tr>\n",
       "    <tr>\n",
       "      <th rowspan=\"2\" valign=\"top\">126</th>\n",
       "      <th>1</th>\n",
       "      <td>48.416667</td>\n",
       "      <td>46.229167</td>\n",
       "      <td>175.149398</td>\n",
       "      <td>160.387500</td>\n",
       "      <td>29.033333</td>\n",
       "      <td>31.262500</td>\n",
       "    </tr>\n",
       "    <tr>\n",
       "      <th>2</th>\n",
       "      <td>48.666667</td>\n",
       "      <td>47.205882</td>\n",
       "      <td>174.713043</td>\n",
       "      <td>160.892000</td>\n",
       "      <td>29.039130</td>\n",
       "      <td>29.612121</td>\n",
       "    </tr>\n",
       "    <tr>\n",
       "      <th rowspan=\"2\" valign=\"top\">127</th>\n",
       "      <th>1</th>\n",
       "      <td>53.137931</td>\n",
       "      <td>49.694444</td>\n",
       "      <td>171.545349</td>\n",
       "      <td>157.422430</td>\n",
       "      <td>31.062353</td>\n",
       "      <td>32.189720</td>\n",
       "    </tr>\n",
       "    <tr>\n",
       "      <th>2</th>\n",
       "      <td>54.070588</td>\n",
       "      <td>51.486239</td>\n",
       "      <td>173.366667</td>\n",
       "      <td>159.022936</td>\n",
       "      <td>30.557831</td>\n",
       "      <td>30.770642</td>\n",
       "    </tr>\n",
       "    <tr>\n",
       "      <th rowspan=\"2\" valign=\"top\">128</th>\n",
       "      <th>1</th>\n",
       "      <td>53.673267</td>\n",
       "      <td>55.638462</td>\n",
       "      <td>169.325000</td>\n",
       "      <td>156.339062</td>\n",
       "      <td>31.749000</td>\n",
       "      <td>32.303125</td>\n",
       "    </tr>\n",
       "    <tr>\n",
       "      <th>2</th>\n",
       "      <td>45.822785</td>\n",
       "      <td>45.589744</td>\n",
       "      <td>172.400000</td>\n",
       "      <td>160.437179</td>\n",
       "      <td>26.835443</td>\n",
       "      <td>27.491026</td>\n",
       "    </tr>\n",
       "    <tr>\n",
       "      <th rowspan=\"2\" valign=\"top\">129</th>\n",
       "      <th>1</th>\n",
       "      <td>43.922222</td>\n",
       "      <td>45.329787</td>\n",
       "      <td>171.094318</td>\n",
       "      <td>156.900000</td>\n",
       "      <td>26.493182</td>\n",
       "      <td>29.019149</td>\n",
       "    </tr>\n",
       "    <tr>\n",
       "      <th>2</th>\n",
       "      <td>45.775510</td>\n",
       "      <td>43.500000</td>\n",
       "      <td>173.138298</td>\n",
       "      <td>161.034259</td>\n",
       "      <td>28.961702</td>\n",
       "      <td>29.429630</td>\n",
       "    </tr>\n",
       "    <tr>\n",
       "      <th rowspan=\"2\" valign=\"top\">130</th>\n",
       "      <th>1</th>\n",
       "      <td>50.516854</td>\n",
       "      <td>47.810526</td>\n",
       "      <td>176.974157</td>\n",
       "      <td>161.977895</td>\n",
       "      <td>30.337079</td>\n",
       "      <td>30.700000</td>\n",
       "    </tr>\n",
       "    <tr>\n",
       "      <th>2</th>\n",
       "      <td>50.535354</td>\n",
       "      <td>50.833333</td>\n",
       "      <td>175.061224</td>\n",
       "      <td>160.060577</td>\n",
       "      <td>29.237755</td>\n",
       "      <td>31.490385</td>\n",
       "    </tr>\n",
       "    <tr>\n",
       "      <th rowspan=\"2\" valign=\"top\">131</th>\n",
       "      <th>1</th>\n",
       "      <td>53.140187</td>\n",
       "      <td>54.893617</td>\n",
       "      <td>175.610476</td>\n",
       "      <td>161.989362</td>\n",
       "      <td>28.259615</td>\n",
       "      <td>30.061702</td>\n",
       "    </tr>\n",
       "    <tr>\n",
       "      <th>2</th>\n",
       "      <td>46.778846</td>\n",
       "      <td>45.000000</td>\n",
       "      <td>175.091346</td>\n",
       "      <td>161.673810</td>\n",
       "      <td>30.077885</td>\n",
       "      <td>32.984127</td>\n",
       "    </tr>\n",
       "    <tr>\n",
       "      <th rowspan=\"2\" valign=\"top\">132</th>\n",
       "      <th>1</th>\n",
       "      <td>42.380435</td>\n",
       "      <td>43.210526</td>\n",
       "      <td>172.534066</td>\n",
       "      <td>161.508421</td>\n",
       "      <td>28.546154</td>\n",
       "      <td>29.848421</td>\n",
       "    </tr>\n",
       "    <tr>\n",
       "      <th>2</th>\n",
       "      <td>49.038760</td>\n",
       "      <td>51.700000</td>\n",
       "      <td>172.809524</td>\n",
       "      <td>159.138281</td>\n",
       "      <td>28.966667</td>\n",
       "      <td>30.540625</td>\n",
       "    </tr>\n",
       "    <tr>\n",
       "      <th rowspan=\"2\" valign=\"top\">133</th>\n",
       "      <th>1</th>\n",
       "      <td>44.054795</td>\n",
       "      <td>45.105882</td>\n",
       "      <td>171.509722</td>\n",
       "      <td>158.295122</td>\n",
       "      <td>27.495833</td>\n",
       "      <td>27.959259</td>\n",
       "    </tr>\n",
       "    <tr>\n",
       "      <th>2</th>\n",
       "      <td>47.489796</td>\n",
       "      <td>47.063158</td>\n",
       "      <td>171.179167</td>\n",
       "      <td>158.627368</td>\n",
       "      <td>27.966667</td>\n",
       "      <td>29.000000</td>\n",
       "    </tr>\n",
       "  </tbody>\n",
       "</table>\n",
       "</div>"
      ],
      "text/plain": [
       "                   RIDAGEYR                  BMXHT                 BMXBMI  \\\n",
       "RIAGENDR                  1          2           1           2          1   \n",
       "SDMVSTRA SDMVPSU                                                            \n",
       "119      1        47.861111  47.663265  172.741667  159.570408  26.958333   \n",
       "         2        54.363636  52.987952  172.906818  159.244578  27.160465   \n",
       "120      1        43.130000  43.636364  169.537755  155.402041  30.939175   \n",
       "         2        45.219178  43.736111  173.075342  159.218056  27.727397   \n",
       "121      1        46.750000  44.397959  172.177885  158.871579  29.416505   \n",
       "         2        42.063158  44.376344  174.764516  160.229032  26.273118   \n",
       "122      1        44.653061  42.897436  173.998969  161.315385  28.528866   \n",
       "         2        44.320000  47.333333  170.332323  157.231111  25.744444   \n",
       "123      1        47.829787  44.841121  174.315217  162.059615  29.231522   \n",
       "         2        52.126582  46.457447  174.454430  160.476596  28.811392   \n",
       "124      1        50.750000  51.664000  172.109009  158.788710  28.614414   \n",
       "         2        48.245614  42.541667  174.291228  162.853521  27.714035   \n",
       "125      1        55.165289  50.900901  173.631092  160.762385  29.727731   \n",
       "         2        49.705882  51.660000  174.456863  160.021429  29.143564   \n",
       "126      1        48.416667  46.229167  175.149398  160.387500  29.033333   \n",
       "         2        48.666667  47.205882  174.713043  160.892000  29.039130   \n",
       "127      1        53.137931  49.694444  171.545349  157.422430  31.062353   \n",
       "         2        54.070588  51.486239  173.366667  159.022936  30.557831   \n",
       "128      1        53.673267  55.638462  169.325000  156.339062  31.749000   \n",
       "         2        45.822785  45.589744  172.400000  160.437179  26.835443   \n",
       "129      1        43.922222  45.329787  171.094318  156.900000  26.493182   \n",
       "         2        45.775510  43.500000  173.138298  161.034259  28.961702   \n",
       "130      1        50.516854  47.810526  176.974157  161.977895  30.337079   \n",
       "         2        50.535354  50.833333  175.061224  160.060577  29.237755   \n",
       "131      1        53.140187  54.893617  175.610476  161.989362  28.259615   \n",
       "         2        46.778846  45.000000  175.091346  161.673810  30.077885   \n",
       "132      1        42.380435  43.210526  172.534066  161.508421  28.546154   \n",
       "         2        49.038760  51.700000  172.809524  159.138281  28.966667   \n",
       "133      1        44.054795  45.105882  171.509722  158.295122  27.495833   \n",
       "         2        47.489796  47.063158  171.179167  158.627368  27.966667   \n",
       "\n",
       "                             \n",
       "RIAGENDR                  2  \n",
       "SDMVSTRA SDMVPSU             \n",
       "119      1        30.052041  \n",
       "         2        27.849398  \n",
       "120      1        32.419388  \n",
       "         2        27.400000  \n",
       "121      1        30.856842  \n",
       "         2        26.470968  \n",
       "122      1        29.447436  \n",
       "         2        26.611111  \n",
       "123      1        29.905769  \n",
       "         2        30.641489  \n",
       "124      1        29.533065  \n",
       "         2        28.640845  \n",
       "125      1        30.385321  \n",
       "         2        28.564286  \n",
       "126      1        31.262500  \n",
       "         2        29.612121  \n",
       "127      1        32.189720  \n",
       "         2        30.770642  \n",
       "128      1        32.303125  \n",
       "         2        27.491026  \n",
       "129      1        29.019149  \n",
       "         2        29.429630  \n",
       "130      1        30.700000  \n",
       "         2        31.490385  \n",
       "131      1        30.061702  \n",
       "         2        32.984127  \n",
       "132      1        29.848421  \n",
       "         2        30.540625  \n",
       "133      1        27.959259  \n",
       "         2        29.000000  "
      ]
     },
     "execution_count": 87,
     "metadata": {},
     "output_type": "execute_result"
    }
   ],
   "source": [
    "(\n",
    "    (\n",
    "        da.groupby(['SDMVSTRA', 'SDMVPSU', 'RIAGENDR'])\n",
    "        [['RIDAGEYR', 'BMXHT', 'BMXBMI']]\n",
    "        .mean()\n",
    "    )\n",
    "    \n",
    ").unstack()"
   ]
  },
  {
   "cell_type": "markdown",
   "metadata": {},
   "source": [
    "__Q6a.__ Comment on the extent to which mean age, height, and BMI vary among the MVUs."
   ]
  },
  {
   "cell_type": "raw",
   "metadata": {},
   "source": []
  },
  {
   "cell_type": "code",
   "execution_count": 88,
   "metadata": {},
   "outputs": [
    {
     "data": {
      "text/html": [
       "<div>\n",
       "<style scoped>\n",
       "    .dataframe tbody tr th:only-of-type {\n",
       "        vertical-align: middle;\n",
       "    }\n",
       "\n",
       "    .dataframe tbody tr th {\n",
       "        vertical-align: top;\n",
       "    }\n",
       "\n",
       "    .dataframe thead tr th {\n",
       "        text-align: left;\n",
       "    }\n",
       "\n",
       "    .dataframe thead tr:last-of-type th {\n",
       "        text-align: right;\n",
       "    }\n",
       "</style>\n",
       "<table border=\"1\" class=\"dataframe\">\n",
       "  <thead>\n",
       "    <tr>\n",
       "      <th></th>\n",
       "      <th></th>\n",
       "      <th colspan=\"2\" halign=\"left\">RIDAGEYR</th>\n",
       "      <th colspan=\"2\" halign=\"left\">BMXHT</th>\n",
       "      <th colspan=\"2\" halign=\"left\">BMXBMI</th>\n",
       "    </tr>\n",
       "    <tr>\n",
       "      <th></th>\n",
       "      <th>RIAGENDR</th>\n",
       "      <th>1</th>\n",
       "      <th>2</th>\n",
       "      <th>1</th>\n",
       "      <th>2</th>\n",
       "      <th>1</th>\n",
       "      <th>2</th>\n",
       "    </tr>\n",
       "    <tr>\n",
       "      <th>SDMVSTRA</th>\n",
       "      <th>SDMVPSU</th>\n",
       "      <th></th>\n",
       "      <th></th>\n",
       "      <th></th>\n",
       "      <th></th>\n",
       "      <th></th>\n",
       "      <th></th>\n",
       "    </tr>\n",
       "  </thead>\n",
       "  <tbody>\n",
       "    <tr>\n",
       "      <th rowspan=\"2\" valign=\"top\">119</th>\n",
       "      <th>1</th>\n",
       "      <td>4.444444</td>\n",
       "      <td>4.444444</td>\n",
       "      <td>1.231270</td>\n",
       "      <td>1.221838</td>\n",
       "      <td>2.994413</td>\n",
       "      <td>3.256684</td>\n",
       "    </tr>\n",
       "    <tr>\n",
       "      <th>2</th>\n",
       "      <td>4.000000</td>\n",
       "      <td>4.444444</td>\n",
       "      <td>1.269385</td>\n",
       "      <td>1.267041</td>\n",
       "      <td>2.224390</td>\n",
       "      <td>4.045161</td>\n",
       "    </tr>\n",
       "    <tr>\n",
       "      <th rowspan=\"2\" valign=\"top\">120</th>\n",
       "      <th>1</th>\n",
       "      <td>4.444444</td>\n",
       "      <td>4.444444</td>\n",
       "      <td>1.297715</td>\n",
       "      <td>1.254360</td>\n",
       "      <td>3.042105</td>\n",
       "      <td>3.666667</td>\n",
       "    </tr>\n",
       "    <tr>\n",
       "      <th>2</th>\n",
       "      <td>4.444444</td>\n",
       "      <td>4.444444</td>\n",
       "      <td>1.271065</td>\n",
       "      <td>1.296011</td>\n",
       "      <td>2.875000</td>\n",
       "      <td>2.443182</td>\n",
       "    </tr>\n",
       "    <tr>\n",
       "      <th rowspan=\"2\" valign=\"top\">121</th>\n",
       "      <th>1</th>\n",
       "      <td>4.444444</td>\n",
       "      <td>4.444444</td>\n",
       "      <td>1.252324</td>\n",
       "      <td>1.308458</td>\n",
       "      <td>3.104938</td>\n",
       "      <td>2.538462</td>\n",
       "    </tr>\n",
       "    <tr>\n",
       "      <th>2</th>\n",
       "      <td>4.444444</td>\n",
       "      <td>4.444444</td>\n",
       "      <td>1.296036</td>\n",
       "      <td>1.249319</td>\n",
       "      <td>2.542373</td>\n",
       "      <td>3.349112</td>\n",
       "    </tr>\n",
       "    <tr>\n",
       "      <th rowspan=\"2\" valign=\"top\">122</th>\n",
       "      <th>1</th>\n",
       "      <td>4.444444</td>\n",
       "      <td>4.444444</td>\n",
       "      <td>1.244646</td>\n",
       "      <td>1.232877</td>\n",
       "      <td>3.284916</td>\n",
       "      <td>3.066298</td>\n",
       "    </tr>\n",
       "    <tr>\n",
       "      <th>2</th>\n",
       "      <td>4.444444</td>\n",
       "      <td>4.444444</td>\n",
       "      <td>1.272849</td>\n",
       "      <td>1.214035</td>\n",
       "      <td>1.902703</td>\n",
       "      <td>2.730539</td>\n",
       "    </tr>\n",
       "    <tr>\n",
       "      <th rowspan=\"2\" valign=\"top\">123</th>\n",
       "      <th>1</th>\n",
       "      <td>4.444444</td>\n",
       "      <td>4.444444</td>\n",
       "      <td>1.210127</td>\n",
       "      <td>1.262143</td>\n",
       "      <td>3.039548</td>\n",
       "      <td>2.483333</td>\n",
       "    </tr>\n",
       "    <tr>\n",
       "      <th>2</th>\n",
       "      <td>4.210526</td>\n",
       "      <td>4.444444</td>\n",
       "      <td>1.290116</td>\n",
       "      <td>1.237474</td>\n",
       "      <td>3.275000</td>\n",
       "      <td>2.947917</td>\n",
       "    </tr>\n",
       "    <tr>\n",
       "      <th rowspan=\"2\" valign=\"top\">124</th>\n",
       "      <th>1</th>\n",
       "      <td>4.210526</td>\n",
       "      <td>4.444444</td>\n",
       "      <td>1.214700</td>\n",
       "      <td>1.259393</td>\n",
       "      <td>2.212871</td>\n",
       "      <td>3.656627</td>\n",
       "    </tr>\n",
       "    <tr>\n",
       "      <th>2</th>\n",
       "      <td>4.210526</td>\n",
       "      <td>4.444444</td>\n",
       "      <td>1.204545</td>\n",
       "      <td>1.216480</td>\n",
       "      <td>2.436464</td>\n",
       "      <td>3.530387</td>\n",
       "    </tr>\n",
       "    <tr>\n",
       "      <th rowspan=\"2\" valign=\"top\">125</th>\n",
       "      <th>1</th>\n",
       "      <td>4.444444</td>\n",
       "      <td>4.444444</td>\n",
       "      <td>1.266364</td>\n",
       "      <td>1.230070</td>\n",
       "      <td>3.271605</td>\n",
       "      <td>2.948571</td>\n",
       "    </tr>\n",
       "    <tr>\n",
       "      <th>2</th>\n",
       "      <td>4.444444</td>\n",
       "      <td>4.444444</td>\n",
       "      <td>1.229072</td>\n",
       "      <td>1.248281</td>\n",
       "      <td>2.420765</td>\n",
       "      <td>3.437126</td>\n",
       "    </tr>\n",
       "    <tr>\n",
       "      <th rowspan=\"2\" valign=\"top\">126</th>\n",
       "      <th>1</th>\n",
       "      <td>4.210526</td>\n",
       "      <td>4.210526</td>\n",
       "      <td>1.224347</td>\n",
       "      <td>1.223684</td>\n",
       "      <td>2.769231</td>\n",
       "      <td>3.395210</td>\n",
       "    </tr>\n",
       "    <tr>\n",
       "      <th>2</th>\n",
       "      <td>4.444444</td>\n",
       "      <td>4.444444</td>\n",
       "      <td>1.244715</td>\n",
       "      <td>1.217753</td>\n",
       "      <td>2.355670</td>\n",
       "      <td>3.226994</td>\n",
       "    </tr>\n",
       "    <tr>\n",
       "      <th rowspan=\"2\" valign=\"top\">127</th>\n",
       "      <th>1</th>\n",
       "      <td>4.444444</td>\n",
       "      <td>4.444444</td>\n",
       "      <td>1.219481</td>\n",
       "      <td>1.226573</td>\n",
       "      <td>3.220930</td>\n",
       "      <td>3.195531</td>\n",
       "    </tr>\n",
       "    <tr>\n",
       "      <th>2</th>\n",
       "      <td>4.444444</td>\n",
       "      <td>4.444444</td>\n",
       "      <td>1.223082</td>\n",
       "      <td>1.267626</td>\n",
       "      <td>2.704142</td>\n",
       "      <td>3.184971</td>\n",
       "    </tr>\n",
       "    <tr>\n",
       "      <th rowspan=\"2\" valign=\"top\">128</th>\n",
       "      <th>1</th>\n",
       "      <td>4.444444</td>\n",
       "      <td>4.000000</td>\n",
       "      <td>1.359029</td>\n",
       "      <td>1.277698</td>\n",
       "      <td>2.577114</td>\n",
       "      <td>3.160428</td>\n",
       "    </tr>\n",
       "    <tr>\n",
       "      <th>2</th>\n",
       "      <td>4.444444</td>\n",
       "      <td>4.444444</td>\n",
       "      <td>1.271883</td>\n",
       "      <td>1.223135</td>\n",
       "      <td>2.734940</td>\n",
       "      <td>3.434483</td>\n",
       "    </tr>\n",
       "    <tr>\n",
       "      <th rowspan=\"2\" valign=\"top\">129</th>\n",
       "      <th>1</th>\n",
       "      <td>4.444444</td>\n",
       "      <td>4.444444</td>\n",
       "      <td>1.209941</td>\n",
       "      <td>1.350810</td>\n",
       "      <td>2.124324</td>\n",
       "      <td>2.806630</td>\n",
       "    </tr>\n",
       "    <tr>\n",
       "      <th>2</th>\n",
       "      <td>4.444444</td>\n",
       "      <td>4.444444</td>\n",
       "      <td>1.250484</td>\n",
       "      <td>1.245775</td>\n",
       "      <td>3.039326</td>\n",
       "      <td>3.413408</td>\n",
       "    </tr>\n",
       "    <tr>\n",
       "      <th rowspan=\"2\" valign=\"top\">130</th>\n",
       "      <th>1</th>\n",
       "      <td>4.444444</td>\n",
       "      <td>4.444444</td>\n",
       "      <td>1.224691</td>\n",
       "      <td>1.227972</td>\n",
       "      <td>3.457831</td>\n",
       "      <td>3.261538</td>\n",
       "    </tr>\n",
       "    <tr>\n",
       "      <th>2</th>\n",
       "      <td>4.444444</td>\n",
       "      <td>4.000000</td>\n",
       "      <td>1.255995</td>\n",
       "      <td>1.288210</td>\n",
       "      <td>2.994475</td>\n",
       "      <td>3.875862</td>\n",
       "    </tr>\n",
       "    <tr>\n",
       "      <th rowspan=\"2\" valign=\"top\">131</th>\n",
       "      <th>1</th>\n",
       "      <td>4.210526</td>\n",
       "      <td>4.444444</td>\n",
       "      <td>1.203232</td>\n",
       "      <td>1.220938</td>\n",
       "      <td>3.357616</td>\n",
       "      <td>3.444444</td>\n",
       "    </tr>\n",
       "    <tr>\n",
       "      <th>2</th>\n",
       "      <td>4.444444</td>\n",
       "      <td>4.444444</td>\n",
       "      <td>1.204759</td>\n",
       "      <td>1.203528</td>\n",
       "      <td>2.713568</td>\n",
       "      <td>3.822485</td>\n",
       "    </tr>\n",
       "    <tr>\n",
       "      <th rowspan=\"2\" valign=\"top\">132</th>\n",
       "      <th>1</th>\n",
       "      <td>4.111111</td>\n",
       "      <td>4.210526</td>\n",
       "      <td>1.268568</td>\n",
       "      <td>1.198903</td>\n",
       "      <td>2.432161</td>\n",
       "      <td>3.121212</td>\n",
       "    </tr>\n",
       "    <tr>\n",
       "      <th>2</th>\n",
       "      <td>4.444444</td>\n",
       "      <td>4.444444</td>\n",
       "      <td>1.292895</td>\n",
       "      <td>1.275562</td>\n",
       "      <td>3.512195</td>\n",
       "      <td>4.078788</td>\n",
       "    </tr>\n",
       "    <tr>\n",
       "      <th rowspan=\"2\" valign=\"top\">133</th>\n",
       "      <th>1</th>\n",
       "      <td>4.444444</td>\n",
       "      <td>4.444444</td>\n",
       "      <td>1.265293</td>\n",
       "      <td>1.273934</td>\n",
       "      <td>2.502762</td>\n",
       "      <td>2.969512</td>\n",
       "    </tr>\n",
       "    <tr>\n",
       "      <th>2</th>\n",
       "      <td>4.444444</td>\n",
       "      <td>4.444444</td>\n",
       "      <td>1.372161</td>\n",
       "      <td>1.202364</td>\n",
       "      <td>3.222222</td>\n",
       "      <td>3.706897</td>\n",
       "    </tr>\n",
       "  </tbody>\n",
       "</table>\n",
       "</div>"
      ],
      "text/plain": [
       "                  RIDAGEYR               BMXHT              BMXBMI          \n",
       "RIAGENDR                 1         2         1         2         1         2\n",
       "SDMVSTRA SDMVPSU                                                            \n",
       "119      1        4.444444  4.444444  1.231270  1.221838  2.994413  3.256684\n",
       "         2        4.000000  4.444444  1.269385  1.267041  2.224390  4.045161\n",
       "120      1        4.444444  4.444444  1.297715  1.254360  3.042105  3.666667\n",
       "         2        4.444444  4.444444  1.271065  1.296011  2.875000  2.443182\n",
       "121      1        4.444444  4.444444  1.252324  1.308458  3.104938  2.538462\n",
       "         2        4.444444  4.444444  1.296036  1.249319  2.542373  3.349112\n",
       "122      1        4.444444  4.444444  1.244646  1.232877  3.284916  3.066298\n",
       "         2        4.444444  4.444444  1.272849  1.214035  1.902703  2.730539\n",
       "123      1        4.444444  4.444444  1.210127  1.262143  3.039548  2.483333\n",
       "         2        4.210526  4.444444  1.290116  1.237474  3.275000  2.947917\n",
       "124      1        4.210526  4.444444  1.214700  1.259393  2.212871  3.656627\n",
       "         2        4.210526  4.444444  1.204545  1.216480  2.436464  3.530387\n",
       "125      1        4.444444  4.444444  1.266364  1.230070  3.271605  2.948571\n",
       "         2        4.444444  4.444444  1.229072  1.248281  2.420765  3.437126\n",
       "126      1        4.210526  4.210526  1.224347  1.223684  2.769231  3.395210\n",
       "         2        4.444444  4.444444  1.244715  1.217753  2.355670  3.226994\n",
       "127      1        4.444444  4.444444  1.219481  1.226573  3.220930  3.195531\n",
       "         2        4.444444  4.444444  1.223082  1.267626  2.704142  3.184971\n",
       "128      1        4.444444  4.000000  1.359029  1.277698  2.577114  3.160428\n",
       "         2        4.444444  4.444444  1.271883  1.223135  2.734940  3.434483\n",
       "129      1        4.444444  4.444444  1.209941  1.350810  2.124324  2.806630\n",
       "         2        4.444444  4.444444  1.250484  1.245775  3.039326  3.413408\n",
       "130      1        4.444444  4.444444  1.224691  1.227972  3.457831  3.261538\n",
       "         2        4.444444  4.000000  1.255995  1.288210  2.994475  3.875862\n",
       "131      1        4.210526  4.444444  1.203232  1.220938  3.357616  3.444444\n",
       "         2        4.444444  4.444444  1.204759  1.203528  2.713568  3.822485\n",
       "132      1        4.111111  4.210526  1.268568  1.198903  2.432161  3.121212\n",
       "         2        4.444444  4.444444  1.292895  1.275562  3.512195  4.078788\n",
       "133      1        4.444444  4.444444  1.265293  1.273934  2.502762  2.969512\n",
       "         2        4.444444  4.444444  1.372161  1.202364  3.222222  3.706897"
      ]
     },
     "execution_count": 88,
     "metadata": {},
     "output_type": "execute_result"
    }
   ],
   "source": [
    "# insert your code here\n",
    "\n",
    "(\n",
    "    (\n",
    "        da.groupby(['SDMVSTRA', 'SDMVPSU', 'RIAGENDR'])\n",
    "        [['RIDAGEYR', 'BMXHT', 'BMXBMI']]\n",
    "        .max()\n",
    "    )\n",
    "    /\n",
    "    (\n",
    "        da.groupby(['SDMVSTRA', 'SDMVPSU', 'RIAGENDR'])\n",
    "        [['RIDAGEYR', 'BMXHT', 'BMXBMI']]\n",
    "        .min()\n",
    "    )\n",
    ").unstack()"
   ]
  },
  {
   "cell_type": "markdown",
   "metadata": {},
   "source": [
    "__Q6b.__ Calculate the inter-quartile range (IQR) for age, height, and BMI for each gender and each MVU.  Report the ratio between the largest and smalles IQR across the MVUs."
   ]
  },
  {
   "cell_type": "code",
   "execution_count": null,
   "metadata": {},
   "outputs": [],
   "source": [
    "# insert your code here"
   ]
  },
  {
   "cell_type": "markdown",
   "metadata": {},
   "source": [
    "__Q6c.__ Comment on the extent to which the IQR for age, height, and BMI vary among the MVUs."
   ]
  },
  {
   "cell_type": "raw",
   "metadata": {},
   "source": []
  }
 ],
 "metadata": {
  "kernelspec": {
   "display_name": "Python 3",
   "language": "python",
   "name": "python3"
  },
  "language_info": {
   "codemirror_mode": {
    "name": "ipython",
    "version": 3
   },
   "file_extension": ".py",
   "mimetype": "text/x-python",
   "name": "python",
   "nbconvert_exporter": "python",
   "pygments_lexer": "ipython3",
   "version": "3.8.10 (default, Nov 14 2022, 12:59:47) \n[GCC 9.4.0]"
  },
  "vscode": {
   "interpreter": {
    "hash": "e7370f93d1d0cde622a1f8e1c04877d8463912d04d973331ad4851f04de6915a"
   }
  }
 },
 "nbformat": 4,
 "nbformat_minor": 2
}
